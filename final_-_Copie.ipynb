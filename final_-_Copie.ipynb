{
 "cells": [
  {
   "cell_type": "code",
   "execution_count": 1,
   "id": "ea3ac331",
   "metadata": {},
   "outputs": [],
   "source": [
    "import pandas as pd\n",
    "from datetime import datetime\n",
    "import plotly.express as px\n",
    "dateparse = lambda x: datetime.strptime(x, '%Y-%m-%d %H:%M:%S')\n",
    "df = pd.read_csv('week_5.csv', sep='\\t',\n",
    "                 names=[\"id\", \"datetime\", \"lat\", \"long\", \"ordre\",'week'], \n",
    "                 parse_dates=['datetime'], date_parser=dateparse)"
   ]
  },
  {
   "cell_type": "code",
   "execution_count": 18,
   "id": "cce3163b",
   "metadata": {},
   "outputs": [
    {
     "data": {
      "text/plain": [
       "(297689, 6)"
      ]
     },
     "execution_count": 18,
     "metadata": {},
     "output_type": "execute_result"
    }
   ],
   "source": [
    "df.shape"
   ]
  },
  {
   "cell_type": "code",
   "execution_count": 112,
   "id": "ab41ad92",
   "metadata": {},
   "outputs": [],
   "source": []
  },
  {
   "cell_type": "code",
   "execution_count": 6,
   "id": "a7811011",
   "metadata": {},
   "outputs": [
    {
     "data": {
      "text/plain": [
       "Timestamp('2015-05-12 00:59:59')"
      ]
     },
     "execution_count": 6,
     "metadata": {},
     "output_type": "execute_result"
    }
   ],
   "source": [
    "\n"
   ]
  },
  {
   "cell_type": "code",
   "execution_count": 7,
   "id": "76236f2e",
   "metadata": {},
   "outputs": [],
   "source": [
    "min_lat=df['lat'].min()\n",
    "max_lat=df['lat'].max()\n",
    "x=0.001\n",
    "lat_c=min_lat+x"
   ]
  },
  {
   "cell_type": "code",
   "execution_count": 8,
   "id": "2b533807",
   "metadata": {},
   "outputs": [],
   "source": [
    "import datetime, time\n",
    "def see_long(mil,mal):\n",
    "    df_tmp=df[(df['lat']<=mal) & (df['lat']>=mil) & (df['id']!='DEL')]\n",
    "    milo=df_tmp['long'].min()\n",
    "    malo=df_tmp['long'].max()\n",
    "    ln=len(np.unique(df_tmp['id']))\n",
    "    if(ln<3 ):\n",
    "        df.loc[(df['lat']<=mal) & (df['lat']>=mil),'id']='DEL'\n",
    "    else:\n",
    "        df_to_ano=df[(df['lat']<=mal) & (df['lat']>=mil) & (df['long']<=malo) & (df['long']>=milo)]\n",
    "        mean_long=df_to_ano['long'].mean()\n",
    "        df.loc[(df['long']>=mean_long+0.1) | (df['long']<=mean_long-0.1), 'id'] = 'DEL'\n",
    "        \n",
    "        datemin1 = time.mktime(df_to_ano['datetime'].min().timetuple())\n",
    "        datemax1 = time.mktime(df_to_ano['datetime'].max().timetuple())\n",
    "        meandate1 = (datemin1 + datemax1)//2\n",
    "        mean_to_set=datetime.datetime.fromtimestamp(meandate1)\n",
    "        df.loc[(df['lat']<=mal) \n",
    "               & (df['lat']>=mil) \n",
    "               & (df['long']<=malo) \n",
    "               & (df['long']>=milo)\n",
    "               ,['lat','long','datetime']] = df_to_ano['lat'].mean(), mean_long,mean_to_set\n",
    "        "
   ]
  },
  {
   "cell_type": "code",
   "execution_count": null,
   "id": "863fdc26",
   "metadata": {},
   "outputs": [],
   "source": []
  },
  {
   "cell_type": "code",
   "execution_count": 9,
   "id": "6c5e465b",
   "metadata": {},
   "outputs": [],
   "source": [
    "import numpy as np\n",
    "while lat_c<max_lat:\n",
    "    df_int=[]\n",
    "    while x<0.1:\n",
    "        df_int=df[(df['lat']<lat_c) & (df['lat']>=min_lat) & (df['id']!='DEL')]\n",
    "        ln=len(np.unique(df_int['id']))\n",
    "        if(ln>=3):\n",
    "            z=0.001\n",
    "            min_int_lat=min_lat\n",
    "            max_int_lat=lat_c\n",
    "            int_lat_c=min_int_lat+z\n",
    "            while int_lat_c<=max_int_lat:\n",
    "                see_long(min_int_lat,int_lat_c)\n",
    "                min_int_lat=int_lat_c\n",
    "                int_lat_c+=z\n",
    "            break;\n",
    "        else:\n",
    "            x+=x\n",
    "            lat_c+=x\n",
    "    if((len(np.unique(df_int['id']))<3) | (x>=0.1)):\n",
    "        df.loc[(df['lat']<lat_c) & (df['lat']>=min_lat), 'id'] = 'DEL'\n",
    "#         print(f'del between {min_lat} and {lat_c}')\n",
    "    x=0.001\n",
    "    min_lat=lat_c\n",
    "    lat_c=min_lat+x     \n",
    "\n",
    "df_clean=df[df['id']!='DEL']"
   ]
  },
  {
   "cell_type": "code",
   "execution_count": 10,
   "id": "0101394c",
   "metadata": {},
   "outputs": [],
   "source": [
    "fig = px.scatter(df_clean, x=\"lat\", y=\"long\", marginal_x=\"box\", marginal_y=\"box\", color='id')\n",
    "# fig.show()"
   ]
  },
  {
   "cell_type": "code",
   "execution_count": 11,
   "id": "b8ce96d4",
   "metadata": {},
   "outputs": [],
   "source": []
  },
  {
   "cell_type": "code",
   "execution_count": 15,
   "id": "8111da2d",
   "metadata": {},
   "outputs": [
    {
     "data": {
      "text/plain": [
       "(213378, 6)"
      ]
     },
     "execution_count": 15,
     "metadata": {},
     "output_type": "execute_result"
    }
   ],
   "source": [
    "df_clean.shape"
   ]
  },
  {
   "cell_type": "code",
   "execution_count": 13,
   "id": "7ad6346f",
   "metadata": {},
   "outputs": [
    {
     "data": {
      "text/plain": [
       "(297689, 6)"
      ]
     },
     "execution_count": 13,
     "metadata": {},
     "output_type": "execute_result"
    }
   ],
   "source": [
    "df.shape"
   ]
  },
  {
   "cell_type": "code",
   "execution_count": 14,
   "id": "1e1d53fd",
   "metadata": {},
   "outputs": [
    {
     "data": {
      "text/html": [
       "<div>\n",
       "<style scoped>\n",
       "    .dataframe tbody tr th:only-of-type {\n",
       "        vertical-align: middle;\n",
       "    }\n",
       "\n",
       "    .dataframe tbody tr th {\n",
       "        vertical-align: top;\n",
       "    }\n",
       "\n",
       "    .dataframe thead th {\n",
       "        text-align: right;\n",
       "    }\n",
       "</style>\n",
       "<table border=\"1\" class=\"dataframe\">\n",
       "  <thead>\n",
       "    <tr style=\"text-align: right;\">\n",
       "      <th></th>\n",
       "      <th>id</th>\n",
       "      <th>datetime</th>\n",
       "      <th>lat</th>\n",
       "      <th>long</th>\n",
       "      <th>ordre</th>\n",
       "      <th>week</th>\n",
       "    </tr>\n",
       "  </thead>\n",
       "  <tbody>\n",
       "    <tr>\n",
       "      <th>0</th>\n",
       "      <td>DEL</td>\n",
       "      <td>2015-05-11 11:41:31</td>\n",
       "      <td>2.344210</td>\n",
       "      <td>48.846147</td>\n",
       "      <td>852216</td>\n",
       "      <td>10</td>\n",
       "    </tr>\n",
       "    <tr>\n",
       "      <th>1</th>\n",
       "      <td>DEL</td>\n",
       "      <td>2015-05-11 11:41:32</td>\n",
       "      <td>2.343963</td>\n",
       "      <td>48.847593</td>\n",
       "      <td>852217</td>\n",
       "      <td>10</td>\n",
       "    </tr>\n",
       "    <tr>\n",
       "      <th>2</th>\n",
       "      <td>DEL</td>\n",
       "      <td>2015-05-11 11:41:34</td>\n",
       "      <td>2.343957</td>\n",
       "      <td>48.847590</td>\n",
       "      <td>852218</td>\n",
       "      <td>10</td>\n",
       "    </tr>\n",
       "    <tr>\n",
       "      <th>3</th>\n",
       "      <td>DEL</td>\n",
       "      <td>2015-05-11 11:41:35</td>\n",
       "      <td>2.343960</td>\n",
       "      <td>48.847598</td>\n",
       "      <td>852219</td>\n",
       "      <td>10</td>\n",
       "    </tr>\n",
       "    <tr>\n",
       "      <th>4</th>\n",
       "      <td>DEL</td>\n",
       "      <td>2015-05-11 11:41:37</td>\n",
       "      <td>2.343960</td>\n",
       "      <td>48.847598</td>\n",
       "      <td>852220</td>\n",
       "      <td>10</td>\n",
       "    </tr>\n",
       "    <tr>\n",
       "      <th>...</th>\n",
       "      <td>...</td>\n",
       "      <td>...</td>\n",
       "      <td>...</td>\n",
       "      <td>...</td>\n",
       "      <td>...</td>\n",
       "      <td>...</td>\n",
       "    </tr>\n",
       "    <tr>\n",
       "      <th>297684</th>\n",
       "      <td>DEL</td>\n",
       "      <td>2015-05-12 00:55:52</td>\n",
       "      <td>-17.445577</td>\n",
       "      <td>14.714418</td>\n",
       "      <td>34522043</td>\n",
       "      <td>10</td>\n",
       "    </tr>\n",
       "    <tr>\n",
       "      <th>297685</th>\n",
       "      <td>DEL</td>\n",
       "      <td>2015-05-12 00:55:53</td>\n",
       "      <td>-17.445578</td>\n",
       "      <td>14.714418</td>\n",
       "      <td>34522044</td>\n",
       "      <td>10</td>\n",
       "    </tr>\n",
       "    <tr>\n",
       "      <th>297686</th>\n",
       "      <td>DEL</td>\n",
       "      <td>2015-05-12 00:55:55</td>\n",
       "      <td>-17.445582</td>\n",
       "      <td>14.714420</td>\n",
       "      <td>34522045</td>\n",
       "      <td>10</td>\n",
       "    </tr>\n",
       "    <tr>\n",
       "      <th>297687</th>\n",
       "      <td>DEL</td>\n",
       "      <td>2015-05-12 00:55:56</td>\n",
       "      <td>-17.445582</td>\n",
       "      <td>14.714420</td>\n",
       "      <td>34522046</td>\n",
       "      <td>10</td>\n",
       "    </tr>\n",
       "    <tr>\n",
       "      <th>297688</th>\n",
       "      <td>DEL</td>\n",
       "      <td>2015-05-12 00:55:57</td>\n",
       "      <td>-17.445582</td>\n",
       "      <td>14.714420</td>\n",
       "      <td>34522047</td>\n",
       "      <td>10</td>\n",
       "    </tr>\n",
       "  </tbody>\n",
       "</table>\n",
       "<p>297689 rows × 6 columns</p>\n",
       "</div>"
      ],
      "text/plain": [
       "         id            datetime        lat       long     ordre  week\n",
       "0       DEL 2015-05-11 11:41:31   2.344210  48.846147    852216    10\n",
       "1       DEL 2015-05-11 11:41:32   2.343963  48.847593    852217    10\n",
       "2       DEL 2015-05-11 11:41:34   2.343957  48.847590    852218    10\n",
       "3       DEL 2015-05-11 11:41:35   2.343960  48.847598    852219    10\n",
       "4       DEL 2015-05-11 11:41:37   2.343960  48.847598    852220    10\n",
       "...     ...                 ...        ...        ...       ...   ...\n",
       "297684  DEL 2015-05-12 00:55:52 -17.445577  14.714418  34522043    10\n",
       "297685  DEL 2015-05-12 00:55:53 -17.445578  14.714418  34522044    10\n",
       "297686  DEL 2015-05-12 00:55:55 -17.445582  14.714420  34522045    10\n",
       "297687  DEL 2015-05-12 00:55:56 -17.445582  14.714420  34522046    10\n",
       "297688  DEL 2015-05-12 00:55:57 -17.445582  14.714420  34522047    10\n",
       "\n",
       "[297689 rows x 6 columns]"
      ]
     },
     "execution_count": 14,
     "metadata": {},
     "output_type": "execute_result"
    }
   ],
   "source": [
    "df.sort_values('ordre')"
   ]
  },
  {
   "cell_type": "code",
   "execution_count": 17,
   "id": "205f6582",
   "metadata": {},
   "outputs": [],
   "source": [
    "df.drop(['ordre', 'week'], axis=1, inplace=True)"
   ]
  },
  {
   "cell_type": "code",
   "execution_count": 124,
   "id": "74cf3dd6",
   "metadata": {},
   "outputs": [],
   "source": [
    "df.to_csv(f'week_5_anony_lat_long.csv', header=False, index=False,sep='\\t')\n",
    "# df.shape"
   ]
  }
 ],
 "metadata": {
  "kernelspec": {
   "display_name": "Python 3",
   "language": "python",
   "name": "python3"
  },
  "language_info": {
   "codemirror_mode": {
    "name": "ipython",
    "version": 3
   },
   "file_extension": ".py",
   "mimetype": "text/x-python",
   "name": "python",
   "nbconvert_exporter": "python",
   "pygments_lexer": "ipython3",
   "version": "3.8.8"
  }
 },
 "nbformat": 4,
 "nbformat_minor": 5
}
