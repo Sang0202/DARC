{
 "cells": [
  {
   "cell_type": "code",
   "execution_count": 1,
   "id": "8bb5d737",
   "metadata": {},
   "outputs": [],
   "source": [
    "import pandas as pd\n",
    "import json\n",
    "from datetime import datetime\n",
    "\n",
    "df1 = pd.read_csv('bd.csv', sep='\\t',\n",
    "                 names=[\"id\", \"datetime\", \"lat\", \"long\"])\n",
    "df2 = pd.read_csv('542', sep='\\t',\n",
    "                 names=[\"gid\", \"datetime\", \"lat\", \"long\"])"
   ]
  },
  {
   "cell_type": "code",
   "execution_count": 28,
   "id": "e7cb4547",
   "metadata": {},
   "outputs": [],
   "source": [
    "df2 = pd.read_csv('549', sep='\\t',\n",
    "                 names=[\"gid\", \"datetime\", \"lat\", \"long\"])"
   ]
  },
  {
   "cell_type": "code",
   "execution_count": 29,
   "id": "8de1f388",
   "metadata": {},
   "outputs": [
    {
     "name": "stdout",
     "output_type": "stream",
     "text": [
      "           id             datetime       lat       long  week\n",
      "0           1  2015-03-04 00:35:16  4.870147  45.772140    10\n",
      "1           1  2015-03-04 00:35:48  4.870218  45.772095    10\n",
      "2           1  2015-03-04 00:35:49  4.870210  45.772072    10\n",
      "3           1  2015-03-04 00:35:50  4.870210  45.772072    10\n",
      "4           1  2015-03-04 00:35:52  4.870210  45.772072    10\n",
      "...       ...                  ...       ...        ...   ...\n",
      "34551844  110  2015-03-12 16:23:21  2.343094  48.891650    11\n",
      "34551845  110  2015-03-12 16:23:22  2.343094  48.891650    11\n",
      "34551846  110  2015-03-12 16:23:24  2.343094  48.891649    11\n",
      "34551847  110  2015-03-12 16:23:25  2.343094  48.891649    11\n",
      "34551848  110  2015-03-12 19:29:04  2.343127  48.891772    11\n",
      "\n",
      "[34551849 rows x 5 columns]\n",
      "----------inter-data-frame\n",
      "\n"
     ]
    },
    {
     "data": {
      "text/html": [
       "<div>\n",
       "<style scoped>\n",
       "    .dataframe tbody tr th:only-of-type {\n",
       "        vertical-align: middle;\n",
       "    }\n",
       "\n",
       "    .dataframe tbody tr th {\n",
       "        vertical-align: top;\n",
       "    }\n",
       "\n",
       "    .dataframe thead th {\n",
       "        text-align: right;\n",
       "    }\n",
       "</style>\n",
       "<table border=\"1\" class=\"dataframe\">\n",
       "  <thead>\n",
       "    <tr style=\"text-align: right;\">\n",
       "      <th></th>\n",
       "      <th>gid</th>\n",
       "      <th>datetime</th>\n",
       "      <th>lat</th>\n",
       "      <th>long</th>\n",
       "    </tr>\n",
       "  </thead>\n",
       "  <tbody>\n",
       "    <tr>\n",
       "      <th>0</th>\n",
       "      <td>]'`(#^=#*\"@]$}'</td>\n",
       "      <td>2015-03-19 11:59:59</td>\n",
       "      <td>4.865606</td>\n",
       "      <td>45.782156</td>\n",
       "    </tr>\n",
       "    <tr>\n",
       "      <th>1</th>\n",
       "      <td>\"\\/*),&gt;$.%\\}!~~</td>\n",
       "      <td>2015-05-06 11:59:59</td>\n",
       "      <td>4.865255</td>\n",
       "      <td>45.782215</td>\n",
       "    </tr>\n",
       "    <tr>\n",
       "      <th>2</th>\n",
       "      <td>[_$$,];&lt;|;$$.@`</td>\n",
       "      <td>2015-05-07 20:59:59</td>\n",
       "      <td>5.279566</td>\n",
       "      <td>45.585595</td>\n",
       "    </tr>\n",
       "    <tr>\n",
       "      <th>3</th>\n",
       "      <td>&gt;=,&lt;&amp;]-&amp;/\"_~#'|</td>\n",
       "      <td>2015-03-12 20:59:59</td>\n",
       "      <td>4.865536</td>\n",
       "      <td>45.755755</td>\n",
       "    </tr>\n",
       "    <tr>\n",
       "      <th>4</th>\n",
       "      <td>)'=*+.):+!&amp;'\"[-</td>\n",
       "      <td>2015-04-15 23:23:52</td>\n",
       "      <td>4.869266</td>\n",
       "      <td>45.775416</td>\n",
       "    </tr>\n",
       "    <tr>\n",
       "      <th>...</th>\n",
       "      <td>...</td>\n",
       "      <td>...</td>\n",
       "      <td>...</td>\n",
       "      <td>...</td>\n",
       "    </tr>\n",
       "    <tr>\n",
       "      <th>34551844</th>\n",
       "      <td>(?),_(|``**!{\\\\</td>\n",
       "      <td>2015-03-21 11:59:59</td>\n",
       "      <td>4.282485</td>\n",
       "      <td>45.565725</td>\n",
       "    </tr>\n",
       "    <tr>\n",
       "      <th>34551845</th>\n",
       "      <td>&amp;_\"+&gt;_}|&amp;*@!}@'</td>\n",
       "      <td>2015-04-17 23:40:06</td>\n",
       "      <td>4.282516</td>\n",
       "      <td>45.565686</td>\n",
       "    </tr>\n",
       "    <tr>\n",
       "      <th>34551846</th>\n",
       "      <td>.[_;~*;&amp;\\&amp;`(&gt;&lt;`</td>\n",
       "      <td>2015-03-21 11:59:59</td>\n",
       "      <td>5.053295</td>\n",
       "      <td>45.818785</td>\n",
       "    </tr>\n",
       "    <tr>\n",
       "      <th>34551847</th>\n",
       "      <td>)\":+:+&lt;+__!:#]'</td>\n",
       "      <td>2015-04-08 14:59:59</td>\n",
       "      <td>4.087676</td>\n",
       "      <td>46.018985</td>\n",
       "    </tr>\n",
       "    <tr>\n",
       "      <th>34551848</th>\n",
       "      <td>_?^\")/&amp;&lt;;#^&gt;,*_</td>\n",
       "      <td>2015-03-04 20:59:59</td>\n",
       "      <td>4.656686</td>\n",
       "      <td>46.076466</td>\n",
       "    </tr>\n",
       "  </tbody>\n",
       "</table>\n",
       "<p>34551849 rows × 4 columns</p>\n",
       "</div>"
      ],
      "text/plain": [
       "                      gid             datetime       lat       long\n",
       "0         ]'`(#^=#*\"@]$}'  2015-03-19 11:59:59  4.865606  45.782156\n",
       "1         \"\\/*),>$.%\\}!~~  2015-05-06 11:59:59  4.865255  45.782215\n",
       "2         [_$$,];<|;$$.@`  2015-05-07 20:59:59  5.279566  45.585595\n",
       "3         >=,<&]-&/\"_~#'|  2015-03-12 20:59:59  4.865536  45.755755\n",
       "4         )'=*+.):+!&'\"[-  2015-04-15 23:23:52  4.869266  45.775416\n",
       "...                   ...                  ...       ...        ...\n",
       "34551844  (?),_(|``**!{\\\\  2015-03-21 11:59:59  4.282485  45.565725\n",
       "34551845  &_\"+>_}|&*@!}@'  2015-04-17 23:40:06  4.282516  45.565686\n",
       "34551846  .[_;~*;&\\&`(><`  2015-03-21 11:59:59  5.053295  45.818785\n",
       "34551847  )\":+:+<+__!:#]'  2015-04-08 14:59:59  4.087676  46.018985\n",
       "34551848  _?^\")/&<;#^>,*_  2015-03-04 20:59:59  4.656686  46.076466\n",
       "\n",
       "[34551849 rows x 4 columns]"
      ]
     },
     "execution_count": 29,
     "metadata": {},
     "output_type": "execute_result"
    }
   ],
   "source": [
    "print(df1)\n",
    "print('----------inter-data-frame\\n')\n",
    "df2"
   ]
  },
  {
   "cell_type": "code",
   "execution_count": 30,
   "id": "1a667431",
   "metadata": {},
   "outputs": [
    {
     "name": "stderr",
     "output_type": "stream",
     "text": [
      "<ipython-input-30-a00ebb77e06d>:2: SettingWithCopyWarning: \n",
      "A value is trying to be set on a copy of a slice from a DataFrame.\n",
      "Try using .loc[row_indexer,col_indexer] = value instead\n",
      "\n",
      "See the caveats in the documentation: https://pandas.pydata.org/pandas-docs/stable/user_guide/indexing.html#returning-a-view-versus-a-copy\n",
      "  df2['week']=pd.to_datetime(df2['datetime']).dt.isocalendar().week\n"
     ]
    }
   ],
   "source": [
    "df2=df2[df2['gid']!='DEL']\n",
    "df2['week']=pd.to_datetime(df2['datetime']).dt.isocalendar().week\n",
    "\n",
    "# df1['week']=pd.to_datetime(df1['datetime']).dt.isocalendar().week"
   ]
  },
  {
   "cell_type": "code",
   "execution_count": 203,
   "id": "57f9095d",
   "metadata": {},
   "outputs": [
    {
     "data": {
      "text/plain": [
       "gid          object\n",
       "datetime     object\n",
       "lat         float64\n",
       "long        float64\n",
       "week         UInt32\n",
       "dtype: object"
      ]
     },
     "execution_count": 203,
     "metadata": {},
     "output_type": "execute_result"
    }
   ],
   "source": [
    "# import numpy as np\n",
    "# df2.shape\n",
    "# df2[df2[['long']].applymap(np.isreal).all(1)]\n",
    "# df2[\"long\"] = pd.to_numeric(df2[\"long\"])\n",
    "df2.dtypes"
   ]
  },
  {
   "cell_type": "code",
   "execution_count": 5,
   "id": "a4dec09d",
   "metadata": {},
   "outputs": [],
   "source": [
    "import numpy as np\n",
    "def find_nearest(array, value):\n",
    "    array = np.asarray(array)\n",
    "    idx = (np.abs(array - value)).argmin()\n",
    "    return array[idx]"
   ]
  },
  {
   "cell_type": "code",
   "execution_count": 205,
   "id": "15eff494",
   "metadata": {},
   "outputs": [],
   "source": [
    "# dftmp1=df1[df1['week']==20]\n",
    "# dftmp2=df2[df2['week']==10]\n",
    "# dftmp2.nunique()\n",
    "# mean_lat_week_ano=dftmp2.groupby('gid', as_index=False)['long'].mean().sort_values('long')\n",
    "# mean_lat_week_org=dftmp1.groupby('id', as_index=False)['long'].mean().sort_values('long')\n",
    "# print(mean_lat_week_ano)\n",
    "# print(mean_lat_week_org)"
   ]
  },
  {
   "cell_type": "code",
   "execution_count": 31,
   "id": "9f474bca",
   "metadata": {},
   "outputs": [
    {
     "name": "stdout",
     "output_type": "stream",
     "text": [
      "week 10\n",
      "week 11\n",
      "week 12\n",
      "week 13\n",
      "week 14\n",
      "week 15\n",
      "week 16\n",
      "week 17\n",
      "week 18\n",
      "week 19\n",
      "week 20\n"
     ]
    }
   ],
   "source": [
    "weeks=df1['week'].unique()\n",
    "big={}\n",
    "for w in weeks:\n",
    "    print(f'week {w}')\n",
    "    j=0\n",
    "    dftmp1=df1[df1['week']==w]\n",
    "    dftmp2=df2[df2['week']==w]\n",
    "    name=\"2015-\"+str(w)\n",
    "    dftmp1=dftmp1.groupby('id', as_index=False)['lat'].mean().sort_values('lat')\n",
    "    dftmp2=dftmp2.groupby('gid', as_index=False)['lat'].mean().sort_values('lat')\n",
    "    for i in dftmp2['gid'].to_numpy():\n",
    "        origId=str(dftmp1.iloc[j,0])\n",
    "        nearest_value=find_nearest(dftmp2['lat'].to_numpy(),dftmp1.iloc[j,1] )\n",
    "        pred=dftmp2[dftmp2['lat']==nearest_value].iloc[0,0]\n",
    "        if origId in big:\n",
    "            big[origId][name]=[str(pred)]\n",
    "        else:\n",
    "            dictmp={}\n",
    "            dictmp[name]=[str(pred)]\n",
    "            tmp_dict={\n",
    "                origId:dictmp\n",
    "            }\n",
    "        big.update(tmp_dict)\n",
    "        j+=1"
   ]
  },
  {
   "cell_type": "code",
   "execution_count": 32,
   "id": "abdcb4a2",
   "metadata": {},
   "outputs": [],
   "source": [
    "with open('549.json', 'w') as f:\n",
    "    json.dump(big, f)"
   ]
  },
  {
   "cell_type": "code",
   "execution_count": 208,
   "id": "72899190",
   "metadata": {},
   "outputs": [],
   "source": [
    "# df_grouped1=df_grouped1.sort_values('size')\n",
    "# df_grouped2=df_grouped2.sort_values('size')\n",
    "# df2.groupby('id').mean()\n",
    "# i==1 et w==10\n",
    "# dftmp1=df1[df['week']==10]\n",
    "# latmp1=dftmp1[dftmp1['id']==1]['lat'].mean()\n",
    "# dftmp2=df2[df['week']==10]\n",
    "# mean_lat_week_ano=dftmp2.groupby('gid', as_index=False)['lat'].mean()\n",
    "# nearest_value=find_nearest(mean_lat_week_ano[\"lat\"].to_numpy(),latmp1 )\n",
    "# nearest_value\n",
    "# pred=mean_lat_week_ano[(mean_lat_week_ano['lat']>=nearest_value-0.001) & (mean_lat_week_ano['lat']<=nearest_value+0.001)]\n",
    "# pred\n",
    "# dftmp2.head(10)\n",
    "# df2.groupby('gid', as_index=False)['lat'].mean()\n",
    "# dftest1=df1[df1['id']==1]\n",
    "# dftest1['lat'].mean()"
   ]
  },
  {
   "cell_type": "code",
   "execution_count": 209,
   "id": "f0fe2a48",
   "metadata": {},
   "outputs": [],
   "source": [
    "# str(pred)\n",
    "# df_grouped1\n",
    "# df_grouped2.iloc[j,0:1].gid"
   ]
  },
  {
   "cell_type": "code",
   "execution_count": 210,
   "id": "28ee7242",
   "metadata": {},
   "outputs": [],
   "source": [
    "# big={}\n",
    "# j=0\n",
    "# for i in df_grouped1['id'].unique():\n",
    "#     ret= getPred(i)\n",
    "#     tmp_dict={\n",
    "#         str(i):\n",
    "#     }\n",
    "#     j+=1\n",
    "#     big.update(tmp_dict)"
   ]
  },
  {
   "cell_type": "code",
   "execution_count": 211,
   "id": "ed3022d0",
   "metadata": {},
   "outputs": [],
   "source": [
    "# big"
   ]
  },
  {
   "cell_type": "code",
   "execution_count": null,
   "id": "2f07e58e",
   "metadata": {},
   "outputs": [],
   "source": []
  }
 ],
 "metadata": {
  "kernelspec": {
   "display_name": "Python 3",
   "language": "python",
   "name": "python3"
  },
  "language_info": {
   "codemirror_mode": {
    "name": "ipython",
    "version": 3
   },
   "file_extension": ".py",
   "mimetype": "text/x-python",
   "name": "python",
   "nbconvert_exporter": "python",
   "pygments_lexer": "ipython3",
   "version": "3.8.8"
  }
 },
 "nbformat": 4,
 "nbformat_minor": 5
}
