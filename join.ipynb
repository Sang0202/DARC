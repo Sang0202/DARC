{
 "cells": [
  {
   "cell_type": "code",
   "execution_count": 2,
   "id": "c9aa3188",
   "metadata": {},
   "outputs": [],
   "source": [
    "import pandas as pd\n",
    "Anon_df_week = []\n",
    "for k in range(11) : \n",
    "    df = pd.read_csv(f\"week_{k}_anony_lat_long.csv\", sep='\\t',names=[\"id\", \"datetime\", \"lat\", \"long\"],low_memory=False)             \n",
    "    Anon_df_week.append(df) \n",
    "#     print(df.shape)\n",
    "\n",
    "final_df = pd.concat(Anon_df_week)\n",
    "final_df.to_csv(\"Anon_test\", header= False, index= False, sep = \"\\t\")"
   ]
  },
  {
   "cell_type": "code",
   "execution_count": 19,
   "id": "37fbf98f",
   "metadata": {},
   "outputs": [
    {
     "data": {
      "text/plain": [
       "(34551849, 4)"
      ]
     },
     "execution_count": 19,
     "metadata": {},
     "output_type": "execute_result"
    }
   ],
   "source": [
    "final_df.shape"
   ]
  },
  {
   "cell_type": "code",
   "execution_count": 12,
   "id": "6d013335",
   "metadata": {},
   "outputs": [],
   "source": []
  }
 ],
 "metadata": {
  "kernelspec": {
   "display_name": "Python 3",
   "language": "python",
   "name": "python3"
  },
  "language_info": {
   "codemirror_mode": {
    "name": "ipython",
    "version": 3
   },
   "file_extension": ".py",
   "mimetype": "text/x-python",
   "name": "python",
   "nbconvert_exporter": "python",
   "pygments_lexer": "ipython3",
   "version": "3.8.8"
  }
 },
 "nbformat": 4,
 "nbformat_minor": 5
}
