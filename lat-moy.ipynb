{
 "cells": [
  {
   "cell_type": "code",
   "execution_count": 201,
   "id": "8bb5d737",
   "metadata": {},
   "outputs": [],
   "source": [
    "import pandas as pd\n",
    "import json\n",
    "from datetime import datetime\n",
    "\n",
    "df1 = pd.read_csv('by_week.csv', sep='\\t',\n",
    "                 names=[\"id\", \"datetime\", \"lat\", \"long\",\"week\"])\n",
    "df2 = pd.read_csv('anony212/212_407', sep='\\t',\n",
    "                 names=[\"gid\", \"datetime\", \"lat\", \"long\"])"
   ]
  },
  {
   "cell_type": "code",
   "execution_count": 202,
   "id": "1a667431",
   "metadata": {},
   "outputs": [],
   "source": [
    "df2=df2[df2['gid']!='DEL']\n",
    "df2['week']=pd.to_datetime(df2['datetime']).dt.isocalendar().week"
   ]
  },
  {
   "cell_type": "code",
   "execution_count": 203,
   "id": "57f9095d",
   "metadata": {},
   "outputs": [
    {
     "data": {
      "text/plain": [
       "gid          object\n",
       "datetime     object\n",
       "lat         float64\n",
       "long        float64\n",
       "week         UInt32\n",
       "dtype: object"
      ]
     },
     "execution_count": 203,
     "metadata": {},
     "output_type": "execute_result"
    }
   ],
   "source": [
    "# import numpy as np\n",
    "# df2.shape\n",
    "# df2[df2[['long']].applymap(np.isreal).all(1)]\n",
    "# df2[\"long\"] = pd.to_numeric(df2[\"long\"])\n",
    "df2.dtypes"
   ]
  },
  {
   "cell_type": "code",
   "execution_count": 204,
   "id": "a4dec09d",
   "metadata": {},
   "outputs": [],
   "source": [
    "import numpy as np\n",
    "def find_nearest(array, value):\n",
    "    array = np.asarray(array)\n",
    "    idx = (np.abs(array - value)).argmin()\n",
    "    return array[idx]"
   ]
  },
  {
   "cell_type": "code",
   "execution_count": 205,
   "id": "15eff494",
   "metadata": {},
   "outputs": [],
   "source": [
    "# dftmp1=df1[df1['week']==20]\n",
    "# dftmp2=df2[df2['week']==10]\n",
    "# dftmp2.nunique()\n",
    "# mean_lat_week_ano=dftmp2.groupby('gid', as_index=False)['long'].mean().sort_values('long')\n",
    "# mean_lat_week_org=dftmp1.groupby('id', as_index=False)['long'].mean().sort_values('long')\n",
    "# print(mean_lat_week_ano)\n",
    "# print(mean_lat_week_org)"
   ]
  },
  {
   "cell_type": "code",
   "execution_count": 206,
   "id": "9f474bca",
   "metadata": {},
   "outputs": [
    {
     "name": "stdout",
     "output_type": "stream",
     "text": [
      "week 10\n",
      "week 11\n",
      "week 12\n",
      "week 13\n",
      "week 14\n",
      "week 15\n",
      "week 16\n",
      "week 17\n",
      "week 18\n",
      "week 19\n",
      "week 20\n"
     ]
    }
   ],
   "source": [
    "weeks=df1['week'].unique()\n",
    "big={}\n",
    "for w in weeks:\n",
    "    print(f'week {w}')\n",
    "    j=0\n",
    "    dftmp1=df1[df1['week']==w]\n",
    "    dftmp2=df2[df2['week']==w]\n",
    "    name=\"2015-\"+str(w)\n",
    "    dftmp1=dftmp1.groupby('id', as_index=False)['lat'].mean().sort_values('lat')\n",
    "    dftmp2=dftmp2.groupby('gid', as_index=False)['lat'].mean().sort_values('lat')\n",
    "    for i in dftmp2['gid'].to_numpy():\n",
    "        origId=str(dftmp1.iloc[j,0])\n",
    "        nearest_value=find_nearest(dftmp2['lat'].to_numpy(),dftmp1.iloc[j,1] )\n",
    "        pred=dftmp2[dftmp2['lat']==nearest_value].iloc[0,0]\n",
    "        if origId in big:\n",
    "            big[origId][name]=[str(pred)]\n",
    "        else:\n",
    "            dictmp={}\n",
    "            dictmp[name]=[str(pred)]\n",
    "            tmp_dict={\n",
    "                origId:dictmp\n",
    "            }\n",
    "        big.update(tmp_dict)\n",
    "        j+=1"
   ]
  },
  {
   "cell_type": "code",
   "execution_count": 207,
   "id": "abdcb4a2",
   "metadata": {},
   "outputs": [],
   "source": [
    "with open('anony212/212_407.json', 'w') as f:\n",
    "    json.dump(big, f)"
   ]
  },
  {
   "cell_type": "code",
   "execution_count": 208,
   "id": "72899190",
   "metadata": {},
   "outputs": [],
   "source": [
    "# df_grouped1=df_grouped1.sort_values('size')\n",
    "# df_grouped2=df_grouped2.sort_values('size')\n",
    "# df2.groupby('id').mean()\n",
    "# i==1 et w==10\n",
    "# dftmp1=df1[df['week']==10]\n",
    "# latmp1=dftmp1[dftmp1['id']==1]['lat'].mean()\n",
    "# dftmp2=df2[df['week']==10]\n",
    "# mean_lat_week_ano=dftmp2.groupby('gid', as_index=False)['lat'].mean()\n",
    "# nearest_value=find_nearest(mean_lat_week_ano[\"lat\"].to_numpy(),latmp1 )\n",
    "# nearest_value\n",
    "# pred=mean_lat_week_ano[(mean_lat_week_ano['lat']>=nearest_value-0.001) & (mean_lat_week_ano['lat']<=nearest_value+0.001)]\n",
    "# pred\n",
    "# dftmp2.head(10)\n",
    "# df2.groupby('gid', as_index=False)['lat'].mean()\n",
    "# dftest1=df1[df1['id']==1]\n",
    "# dftest1['lat'].mean()"
   ]
  },
  {
   "cell_type": "code",
   "execution_count": 209,
   "id": "f0fe2a48",
   "metadata": {},
   "outputs": [],
   "source": [
    "# str(pred)\n",
    "# df_grouped1\n",
    "# df_grouped2.iloc[j,0:1].gid"
   ]
  },
  {
   "cell_type": "code",
   "execution_count": 210,
   "id": "28ee7242",
   "metadata": {},
   "outputs": [],
   "source": [
    "# big={}\n",
    "# j=0\n",
    "# for i in df_grouped1['id'].unique():\n",
    "#     ret= getPred(i)\n",
    "#     tmp_dict={\n",
    "#         str(i):\n",
    "#     }\n",
    "#     j+=1\n",
    "#     big.update(tmp_dict)"
   ]
  },
  {
   "cell_type": "code",
   "execution_count": 211,
   "id": "ed3022d0",
   "metadata": {},
   "outputs": [],
   "source": [
    "# big"
   ]
  },
  {
   "cell_type": "code",
   "execution_count": null,
   "id": "2f07e58e",
   "metadata": {},
   "outputs": [],
   "source": []
  }
 ],
 "metadata": {
  "kernelspec": {
   "display_name": "Python 3",
   "language": "python",
   "name": "python3"
  },
  "language_info": {
   "codemirror_mode": {
    "name": "ipython",
    "version": 3
   },
   "file_extension": ".py",
   "mimetype": "text/x-python",
   "name": "python",
   "nbconvert_exporter": "python",
   "pygments_lexer": "ipython3",
   "version": "3.8.8"
  }
 },
 "nbformat": 4,
 "nbformat_minor": 5
}
